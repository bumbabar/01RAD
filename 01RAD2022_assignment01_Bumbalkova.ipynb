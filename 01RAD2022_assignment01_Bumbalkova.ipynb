{
  "nbformat": 4,
  "nbformat_minor": 0,
  "metadata": {
    "colab": {
      "private_outputs": true,
      "provenance": [],
      "collapsed_sections": []
    },
    "kernelspec": {
      "name": "ir",
      "display_name": "R"
    },
    "language_info": {
      "name": "R"
    }
  },
  "cells": [
    {
      "cell_type": "markdown",
      "metadata": {
        "id": "1e437db5"
      },
      "source": [
        "#  1. zápočtová úloha z 01RAD 2022/23\n",
        "\n",
        "## Popis úlohy\n",
        "\n",
        "V tomto úkolu je cílem provést předzpracování datového souboru, jeho vizualizaci a jednoduchou lineární regresní úlohu, kde se budeme zajímat o ceny nemovitostí. Za tímto účelem využijeme datový set *saratosa_hoouses* z knihovny *moderndive* obsahující výběr 1057 domů.\n",
        "\n"
      ]
    },
    {
      "cell_type": "markdown",
      "metadata": {
        "id": "f65bd53f"
      },
      "source": [
        "## Podmínky a body\n",
        "\n",
        "Úkol i protokol vypracujte samostatně. Pokud na řešení nějaké úlohy budete přesto s někým spolupracovat, radit se, nezapomeňte to u odpovědi na danou otázku uvést. Tato zápočtová úloha obsahuje 10 otázek po 1 bodu. Celkem za 3 zápočtové úlohy bude možné získat 30 bodů, přičemž pro získání zápočtu je potřeba více jak 20 bodů. Další dodatečné body mohu případně individuálně udělit za řešení mini domácích úkolů z jednotlivých hodin.\n"
      ]
    },
    {
      "cell_type": "markdown",
      "source": [
        "\n",
        "## Odevzdání\n",
        "\n",
        "Protokol ve formátu Rmd+pdf, nebo jako Jupyter notebook (idealně odkaz na gitlab s možností spustit v Colabu) nejpozději do 1. 11. 2022.\n"
      ],
      "metadata": {
        "id": "2ej6l7-Z9MvJ"
      }
    },
    {
      "cell_type": "markdown",
      "source": [
        "\n",
        "### Předzpracování dat:\n",
        "\n",
        "\n"
      ],
      "metadata": {
        "id": "T9O0WiqW9H6_"
      }
    },
    {
      "cell_type": "code",
      "source": [
        "list_of_packages <- c(\"tidyverse\", \"MASS\",\"GGally\",\"moderndive\")\n",
        "missing_packages <- list_of_packages[!(list_of_packages %in% installed.packages()[,\"Package\"])]\n",
        "missing_packages\n",
        "if(length(missing_packages)) install.packages(missing_packages)\n",
        "lapply(list_of_packages, library, character.only = TRUE)"
      ],
      "metadata": {
        "id": "pF2Kv8_5iB-W"
      },
      "execution_count": null,
      "outputs": []
    },
    {
      "cell_type": "code",
      "source": [
        "? saratoga_houses"
      ],
      "metadata": {
        "id": "JHLFSvP39QgC"
      },
      "execution_count": null,
      "outputs": []
    },
    {
      "cell_type": "markdown",
      "source": [
        "**Data**"
      ],
      "metadata": {
        "id": "UgpskaXd9Q8m"
      }
    },
    {
      "cell_type": "code",
      "source": [
        "head(saratoga_houses)"
      ],
      "metadata": {
        "id": "k8XD6U_R9YUE"
      },
      "execution_count": null,
      "outputs": []
    },
    {
      "cell_type": "markdown",
      "source": [
        "## Otázka 01\n",
        "\n",
        "Zjistěte, zdali data neobsahují chybějící hodnoty *NA*. Pokud ano, tak rozhodněte zdali můžete příslušná pozorování z dat odstranit a proč. Které proměnné jsou kvantitativní a které kvalitativní? Jeli možno některé zařadit do obou skupin, pro kterou byste se rozhodli? Které proměnné je možné pužít jako faktorové ordinální a jaké jako faktorové nominální a proč? Spočtěte základní statistiky pro jednotlivé proměnné."
      ],
      "metadata": {
        "id": "W3OFt9Wq9BWo"
      }
    },
    {
      "cell_type": "markdown",
      "metadata": {
        "id": "b8e8f2b2"
      },
      "source": [
        "### Řešení 01:"
      ]
    },
    {
      "cell_type": "markdown",
      "source": [
        "Pomocí funkce summary vidíme, že proměnná *lot_size* obsahuje 9 hodnot *NA*. Jelikož jde pouze o 9 hodnot z celkových 1057, myslím, že tato pozorování můžeme z dat odstranit."
      ],
      "metadata": {
        "id": "TcdfT4tAHaES"
      }
    },
    {
      "cell_type": "code",
      "source": [
        "summary(saratoga_houses)\n",
        "\n",
        "na_hodnoty <- saratoga_houses[rowSums(is.na(saratoga_houses))>0,]\n",
        "na_hodnoty\n",
        "\n",
        "saratoga_houses <- saratoga_houses[complete.cases(saratoga_houses),]"
      ],
      "metadata": {
        "id": "0XSMPQInGWIk"
      },
      "execution_count": null,
      "outputs": []
    },
    {
      "cell_type": "markdown",
      "source": [
        "Kvantitativní proměnné jsou *price, living_area, bathrooms, bedrooms, fireplaces, lot_size* a *age*. Kvalitativní proměnnou je *fireplace*. Do kvalitativních by šly také zařadit proměnné *bathrooms, bedrooms* a *fireplaces*, ale ponechala bych je jako kvantitativní.\n",
        "\n",
        "Jako faktorové ordinální lze použít proměnné *bathrooms, bedrooms* a *fireplaces* (počet pokojů/koupelen/krbů lze seřadit podle velikosti a porovnávat mezi sebou). Do faktorových nominálních lze zařadit proměnnou *fireplace*.\n",
        "\n",
        "Základní statistiky zjistíme pomocí funkce *summary*, nebo lze střední hodnoty spočítat pomocí funkce *colMeans*. Dále je ještě třeba spočítat rozptyly a směrodatné odchylky."
      ],
      "metadata": {
        "id": "APMRHljiKVS_"
      }
    },
    {
      "cell_type": "code",
      "source": [
        "str(saratoga_houses)\n",
        "summary(saratoga_houses)\n",
        "\n",
        "colMeans(saratoga_houses[sapply(saratoga_houses,is.numeric)])\n",
        "\n",
        "c(sd(saratoga_houses$price), var(saratoga_houses$price))\n",
        "c(sd(saratoga_houses$living_area),var(saratoga_houses$living_area))\n",
        "c(sd(saratoga_houses$bathrooms), var(saratoga_houses$bathrooms))\n",
        "c(sd(saratoga_houses$bedrooms), var(saratoga_houses$bedrooms))\n",
        "c(sd(saratoga_houses$fireplaces), var(saratoga_houses$fireplaces))\n",
        "c(sd(saratoga_houses$lot_size),var(saratoga_houses$lot_size))\n",
        "c(sd(saratoga_houses$age),var(saratoga_houses$age))"
      ],
      "metadata": {
        "id": "99D4XR9ixh_Z"
      },
      "execution_count": null,
      "outputs": []
    },
    {
      "cell_type": "markdown",
      "metadata": {
        "id": "07a085bd"
      },
      "source": [
        "## Otázka 02\n",
        "\n",
        "Chceme koupit nemovitost v zahraničí a průzkumem trhu jsme obdřeli předchozí data set *saratoga_houses*. Jelikož ale máme přesnější požadavky a nerozumíme imperiálním jednotkám, potřebujeme data upravit:\n",
        "\n",
        "* Převeďte cenu nemovitostí z dolarů na koruny v tisících a plochu pozemku a obytnou plochu z akrů a čtverečích stop na $m^2$. (chceck describtion by *? saratoga_houses*) \n",
        "* Vyberte jen nemovitosti starší 10 let a mladší 50 let, jejichž cena je menší než 7500000 Kč, a plocha pozemku je mezi 500 a 5000 $m^2$.\n",
        "* Počet koupelen a počet pokojů převeďte na faktorové proměnné o 3 úrovních."
      ]
    },
    {
      "cell_type": "markdown",
      "source": [
        "**Dále pracujte jen s takto omezeným datasetem a s proměnnýma *cena*, *plocha_obytna*, *plocha_pozemku* *pocet_pokoju*,*stari_domu*, *pocet_koupelen*, *krb*.**"
      ],
      "metadata": {
        "id": "T7p28uQXwxxR"
      }
    },
    {
      "cell_type": "markdown",
      "source": [
        "### Řešení 02:"
      ],
      "metadata": {
        "id": "WCtNNkZwXwu-"
      }
    },
    {
      "cell_type": "code",
      "execution_count": null,
      "metadata": {
        "tags": [
          "remove_input"
        ],
        "id": "ff8d4e91"
      },
      "outputs": [],
      "source": [
        "saratoga_houses$price <- saratoga_houses$price*(24.8/1000)\n",
        "saratoga_houses$living_area <- saratoga_houses$living_area*0.092903\n",
        "saratoga_houses$lot_size <- saratoga_houses$lot_size*4046.86\n"
      ]
    },
    {
      "cell_type": "code",
      "source": [
        "houses_vybrane <- saratoga_houses[saratoga_houses$age > 10 & saratoga_houses$age < 50 & saratoga_houses$price < 7500 & saratoga_houses$lot_size > 500 & saratoga_houses$lot_size < 5000, ]\n",
        "head(houses_vybrane)"
      ],
      "metadata": {
        "id": "49uz6BL91CfS"
      },
      "execution_count": null,
      "outputs": []
    },
    {
      "cell_type": "markdown",
      "source": [
        "Vytvoříme si nové proměnné *bedrooms2* a *bathrooms2*, které převedeme pomocí funkce *cut* na faktorové proměnné o 3 úrovních."
      ],
      "metadata": {
        "id": "xmwr6j01QO9o"
      }
    },
    {
      "cell_type": "code",
      "source": [
        "houses_vybrane$bedrooms2 <- cut(houses_vybrane$bedrooms, c(0,2.5,3.5,5) , labels = c(\"1-2\",\"3\",\"4-5\"))\n",
        "houses_vybrane$bathrooms2 <- cut(houses_vybrane$bathrooms, c(0,1.1, 2.1, 5), labels = c(\"1\",\"1.5-2\",\"2.5-4.5\"))\n",
        "\n",
        "head(houses_vybrane)"
      ],
      "metadata": {
        "id": "P9GgF9-7shfQ"
      },
      "execution_count": null,
      "outputs": []
    },
    {
      "cell_type": "markdown",
      "source": [
        "\n",
        "## Otázka 03 \n",
        "\n",
        "* Porovnejte průměry cen nemovitostí s krbem a bez krbu a otestujte, zdali na hladině významnosti $\\alpha = 0.01$ je průměrná cena nemovitostí s krbem větší než průměrná cena nemovitostí bez krbu."
      ],
      "metadata": {
        "id": "VbFGPpNDMqe_"
      }
    },
    {
      "cell_type": "markdown",
      "source": [
        "### Řešení 03:\n"
      ],
      "metadata": {
        "id": "9e0MooPUX0GJ"
      }
    },
    {
      "cell_type": "markdown",
      "source": [
        "Můžeme nahlédnout do boxplotu na hodnoty cen nemovitostí s krbem a bez krbu."
      ],
      "metadata": {
        "id": "oCJwNbXHRwOI"
      }
    },
    {
      "cell_type": "code",
      "source": [
        "domy_bez <- houses_vybrane[houses_vybrane$fireplace == FALSE,]\n",
        "domy_s <- houses_vybrane[houses_vybrane$fireplace == TRUE, ]\n",
        "\n",
        "mean(domy_bez$price)\n",
        "mean(domy_s$price)\n",
        "\n",
        "boxplot(domy_s$price, domy_bez$price, ylab = \"cena\", main = \"Porovnání cen nemovitostí s krbem a bez\", names = c(\"domy s krbem\", \"domy bez krbu\"))"
      ],
      "metadata": {
        "id": "wa11wNb6OoXI"
      },
      "execution_count": null,
      "outputs": []
    },
    {
      "cell_type": "markdown",
      "source": [
        "Otestujme nejprve normalitu dat, pomocí Shapiro-Wilkova testu normality. Vychází nám p-hodnota menší než naše α, a tedy zamítáme normalitu dat. \n",
        "\n",
        "\n",
        "\n"
      ],
      "metadata": {
        "id": "sztbNJNHTTi-"
      }
    },
    {
      "cell_type": "code",
      "source": [
        "shapiro.test(domy_bez$price)\n",
        "shapiro.test(domy_s$price)\n"
      ],
      "metadata": {
        "id": "J7ISO_ZV_i7t"
      },
      "execution_count": null,
      "outputs": []
    },
    {
      "cell_type": "markdown",
      "source": [
        "Chceme testovat hypotézu $H_0: μ_s \\geq μ_{bez}$ oproti alternativě $H_1: μ_s < μ_{bez}$. p-hodnota vyšla 1, což je větší než naše $α = 0.01$, a tedy hypotézu, že cena nemovitosti s krbem je vyšší než cena nemovitosti bez krbu, nezamítáme."
      ],
      "metadata": {
        "id": "_TDVoiiqXTMG"
      }
    },
    {
      "cell_type": "code",
      "source": [
        "wilcox.test(data=houses_vybrane, price ~ fireplace, alternative = c(\"greater\"))\n",
        "\n",
        "#wilcox.test(domy_s$price, domy_bez$price, alternative = c(\"less\"))"
      ],
      "metadata": {
        "id": "M6sWmDHDDIdd"
      },
      "execution_count": null,
      "outputs": []
    },
    {
      "cell_type": "markdown",
      "metadata": {
        "id": "b1cdb7fa"
      },
      "source": [
        "# Vizualizace dat\n",
        "\n",
        "## Otázka 04 \n",
        "\n",
        "* Vykreslete scatterploty pro všechny numerické proměnné, kde bude barevně rozlišeno, zdali se jedná o nemovitost s krbem, nebo bez krbu.\n",
        "*  Pro proměnné *pocet_pokoju* a *pocet_koupelen* a *krb* vykreslete krabicové diagramy (nebo violin ploty), kde odezvou bude *cena*.\n",
        "* Pro proměnnou *cena* vykreslete histogram spolu s jádrovým odhadem hustoty.\n"
      ]
    },
    {
      "cell_type": "markdown",
      "source": [
        "Vykreslila jsem pouze scatterploty pro závislost ceny nemovitosti na *living_area, lot_size* a *age*, jelikož mi to dává největší smysl. Samozřejmě by šlo stejným způsobem vykreslit všechny možné kombinace závislostí numerických proměnných."
      ],
      "metadata": {
        "id": "gpBP1QfAcK82"
      }
    },
    {
      "cell_type": "code",
      "execution_count": null,
      "metadata": {
        "lines_to_next_cell": 2,
        "tags": [
          "remove_input"
        ],
        "id": "9c6a9986"
      },
      "outputs": [],
      "source": [
        "ggplot(houses_vybrane,aes(x = living_area, y = price, color = fireplace)) + \n",
        "  geom_point()\n",
        "\n",
        "ggplot(houses_vybrane,aes(x= lot_size, y = price, color = fireplace)) + \n",
        "  geom_point()\n",
        "\n",
        "ggplot(houses_vybrane,aes(x=age,y=price, color = fireplace)) + \n",
        "  geom_point()\n",
        "\n"
      ]
    },
    {
      "cell_type": "markdown",
      "source": [
        "Krabicové diagramy jsem vykreslila pro dříve vytvořené faktorové proměnné o 3 úrovních (*bedrooms2*, *bathrooms2*), tak i (po převedení na faktorové proměnné) pro zadané proměnné *bedrooms* a *bathrooms*."
      ],
      "metadata": {
        "id": "jyRgzSf7c3ZH"
      }
    },
    {
      "cell_type": "code",
      "source": [
        "houses_vybrane$bedrooms <- as.factor(houses_vybrane$bedrooms)\n",
        "houses_vybrane$bathrooms <- as.factor(houses_vybrane$bathrooms)"
      ],
      "metadata": {
        "id": "QL-Mm27F7ZQi"
      },
      "execution_count": null,
      "outputs": []
    },
    {
      "cell_type": "code",
      "source": [
        "ggplot(houses_vybrane, aes(x = bedrooms, y= price))+ geom_boxplot()\n",
        "ggplot(houses_vybrane, aes (x=bathrooms, y=price))+geom_boxplot()"
      ],
      "metadata": {
        "id": "lml6ce9vd2kn"
      },
      "execution_count": null,
      "outputs": []
    },
    {
      "cell_type": "code",
      "source": [
        "ggplot(houses_vybrane, aes(x=bedrooms2, y= price)) + geom_boxplot()\n",
        "ggplot(houses_vybrane, aes(x=bathrooms2, y= price)) + geom_boxplot()\n",
        "ggplot(houses_vybrane, aes(x=fireplace,y=price))+geom_boxplot()"
      ],
      "metadata": {
        "id": "MmlKQE5wIKoP"
      },
      "execution_count": null,
      "outputs": []
    },
    {
      "cell_type": "code",
      "source": [
        "ggplot(houses_vybrane, aes(x = price))+\n",
        "  geom_histogram(aes(y = ..density..),color = \"black\",fill = \"white\", bins = 15) +\n",
        "  geom_density(kernel = \"gaussian\", alpha = 0.2, color = \"blue\")\n",
        "\n",
        "#nebo\n",
        "\n",
        "hist(houses_vybrane$price, freq = FALSE, xlab = \"cena\", main=\"histogram ceny\")\n",
        "lines(density(houses_vybrane$price), col = \"blue\", lwd = 2)\n",
        "\n"
      ],
      "metadata": {
        "id": "VxdI3YztTV2V"
      },
      "execution_count": null,
      "outputs": []
    },
    {
      "cell_type": "markdown",
      "metadata": {
        "lines_to_next_cell": 0,
        "id": "cdbffc50"
      },
      "source": [
        "## Otázka 05\n",
        "\n",
        "Pro kombinace faktorizovaných proměnných *pocet_pokoju*, *pocet_koupelen*  vykreslete cenu nemovitosti, aby bylo na obrázku vidět, jestli se v průměru liší ceny nemovitostí majících více pokojů, nebo více koupelen a zdali jsou zastoupeny všechny kombiance všech úrovních pro dvě zmíněné faktorové proměnné."
      ]
    },
    {
      "cell_type": "code",
      "execution_count": null,
      "metadata": {
        "tags": [
          "remove_input"
        ],
        "id": "d5208964"
      },
      "outputs": [],
      "source": [
        "ggplot(houses_vybrane, aes(x=bedrooms2, y=price, fill=bathrooms2)) + \n",
        "        geom_boxplot(size = 0.7, notch = F) +\n",
        "        xlab(\"Bedrooms\") +\n",
        "        ylab(\"Price\") +\n",
        "        theme_bw() +\n",
        "        geom_jitter(aes(bedrooms2,price,color=bathrooms2),\n",
        "                    position=position_jitter(width=0.3, height=0),\n",
        "                    alpha = 0.6,\n",
        "                    size = 1,\n",
        "                    show.legend=F) +\n",
        "        stat_summary(fun=mean, geom=\"point\", shape = 23, size=3)\n",
        "\n"
      ]
    },
    {
      "cell_type": "markdown",
      "source": [
        "Pro takto definované faktorové proměnné o 3 úrovních jsou zastoupené všechny kombinace."
      ],
      "metadata": {
        "id": "6C5vgloJS9WR"
      }
    },
    {
      "cell_type": "markdown",
      "metadata": {
        "lines_to_next_cell": 0,
        "id": "37583820"
      },
      "source": [
        "## Otázka 06\n",
        "\n",
        "Pro nemovitosti s dvěma ložnicema vykreslete závislost ceny na obytné ploše nemovitosti, kde jednotlivé události označíte barvou podle toho zdali mají krb a velikost bodů v grafu bude odpovídat počtu koupelen (pro tuto úlohu je lepší vzít počet koupelen jako numerickou proměnnou)."
      ]
    },
    {
      "cell_type": "markdown",
      "source": [
        "**Dále pracujte jen s nemovitostmi se dvěma ložnicemi.**"
      ],
      "metadata": {
        "id": "ebaQtBBORiig"
      }
    },
    {
      "cell_type": "code",
      "execution_count": null,
      "metadata": {
        "tags": [
          "remove_input"
        ],
        "id": "c4ba5f59"
      },
      "outputs": [],
      "source": [
        "houses_2bedrooms <- houses_vybrane[houses_vybrane$bedrooms == 2,]\n",
        "head(houses_2bedrooms)\n",
        "\n",
        "houses_2bedrooms$bathrooms<- as.numeric(houses_2bedrooms$bathrooms)\n",
        "\n",
        "ggplot(houses_2bedrooms, aes(x=living_area, y=price, color = fireplace, size = bathrooms)) + geom_point()\n",
        "\n",
        "houses_2bedrooms$bathrooms <- as.factor(houses_2bedrooms$bathrooms)\n"
      ]
    },
    {
      "cell_type": "markdown",
      "metadata": {
        "id": "51fc7cc4"
      },
      "source": [
        "# Jednoduchý lineární model"
      ]
    },
    {
      "cell_type": "markdown",
      "metadata": {
        "lines_to_next_cell": 0,
        "id": "354a8344"
      },
      "source": [
        "## Otázka 07\n",
        "\n",
        "Sestavte jednoduchý regresní model (s i bez interceptu), kde vysvětlovaná proměnná\n",
        "bude cena nemovitosti a vysvětlující obytná plocha.   Spočtěte pro oba modely $R^2$ a $F$ statistiky, co nám o modelech říkají. Vyberte jeden z nich a zdůvodněte proč ho preferujete.\n",
        "\n",
        "Na základě zvoleného modelu odpovězte, zdali cena nemovitosti závisí na obytné ploše  a pokud ano, o kolik se změní očekávaná cena pro nemovitost s obytnou plochou zvětšenou o $20 m^2$? "
      ]
    },
    {
      "cell_type": "code",
      "source": [
        "model_without_intercept <- lm(price ~ -1 + living_area, data = houses_2bedrooms)\n",
        "summary(model_without_intercept)\n",
        "\n",
        "model_with_intercept <- lm(price ~ living_area, data = houses_2bedrooms)\n",
        "summary(model_with_intercept)\n",
        "\n",
        "\n",
        "ggplot(houses_2bedrooms, aes(x=living_area, y = price))+\n",
        "  geom_point()+\n",
        "  geom_abline(aes(intercept = model_with_intercept$coefficients[1], slope = model_with_intercept$coefficients[2], color = \"s interceptem\"))+\n",
        "  geom_abline(aes(intercept = 0, slope = model_without_intercept$coefficients[1], color = \"bez interceptu\"))"
      ],
      "metadata": {
        "id": "Fw-IlHhgHewY"
      },
      "execution_count": null,
      "outputs": []
    },
    {
      "cell_type": "markdown",
      "source": [
        "$R^2$ statistika nám říká, jak dobře data odpovídají regresnímu modelu. Dále platí, že čím je F statistika vyšší, tím je model lepší.\n",
        "\n",
        "\n",
        "*   V modelu bez interceptu je $R^2$: 0.9427, $F$: 1432 a p-hodnota: $2.2*10^{-16}$.\n",
        "*   V modelu s interceptem vychází $R^2$: 0.4549, $F$: 71.78 a p-hodnota: $5.84*10^{-13}$.\n",
        "\n",
        "V modelu nám nevystupuje proměnná celková rozloha, na které by cena mohla také záviset. Model tedy nemusí pro nulovou obytnou plochu dávat nulovou cenu, jelikož můžeme mít pouze pozemek, za který je také třeba zaplatit. A tedy model závislosti ceny na obytné ploše nemusí procházet počátkem.\n",
        "\n",
        "V modelu bez interceptu sice data odpovídají lépe modelu, ale model nemusí například tak dobře predikovat hodnoty pro nová data.\n",
        "\n",
        "Vybrala bych proto model s interceptem.\n",
        "\n",
        "\n",
        "\n",
        "\n"
      ],
      "metadata": {
        "id": "1ZjQdfcrDKkw"
      }
    },
    {
      "cell_type": "code",
      "source": [
        "delta_living_area <- 20\n",
        "delta_price <- (model_with_intercept$coefficients[2]*delta_living_area)\n",
        "delta_price"
      ],
      "metadata": {
        "id": "vl0CuD4tDI8z"
      },
      "execution_count": null,
      "outputs": []
    },
    {
      "cell_type": "markdown",
      "source": [
        "Dostaneme model: $Y = 563.75 + 19.117*X$ $[$jednotka: tisíc Kč$]$, kde proměnná $X$...living_area je statisticky významná (p-hodnota: $5.84*10^{-13}$), a tedy cena nemovitosti na obytné ploše závisí.\n",
        "\n",
        "Zvýší-li se obytná plocha o 20 $m^2$, tak se očekávaná cena zvýší o 382.34 tisíc Kč."
      ],
      "metadata": {
        "id": "4AOMMWCsKXsH"
      }
    },
    {
      "cell_type": "markdown",
      "metadata": {
        "id": "5ac2ca23"
      },
      "source": [
        "## Otázka 08\n",
        "Sestavte jednoduchý linární model jako v předchozí otázce pro nemovitosti s krbem a bez krbu. Jaký model vykazuje silnější linearní vztah mezi cenou a obytnou plochou? O kolik cena s rostoucí obytnou plochou pro nemovitosti s krbem roste rychleji než pro nemovitosti bez krbu?\n",
        "\n",
        "Spočtěte 95% konfidenční intervaly pro regresní koeficienty popisující sklon regresní přímky v obou modelech a zjistěte, zdali se protínají. Co z toho můžeme vyvozovat?\n",
        "\n",
        "Na základě těchto modelů zjistěte o kolik procent bude mít průměrná nemovitost s krbem a obytnou plochou $160m^2$ vyšší očekávanou cenu než průměrná nemovitost o stejné obytné ploše, ale bez krbu."
      ]
    },
    {
      "cell_type": "markdown",
      "source": [
        "Budu tedy uvažovat už jen model s interceptem, pro který jsem se v předchozí úloze rozhodla. Sestavíme vykreslíme tedy model s interceptem pro nemovitosti s krbem a bez krbu."
      ],
      "metadata": {
        "id": "7WyXW-UPMvAe"
      }
    },
    {
      "cell_type": "code",
      "execution_count": null,
      "metadata": {
        "tags": [
          "remove_input"
        ],
        "id": "07ba8268"
      },
      "outputs": [],
      "source": [
        "model_without_fireplace <- lm(price ~ living_area, data = houses_2bedrooms[houses_2bedrooms$fireplace == FALSE, ])\n",
        "summary(model_without_fireplace)\n",
        "\n",
        "model_with_fireplace <- lm(price ~ living_area, data = houses_2bedrooms[houses_2bedrooms$fireplace == TRUE, ])\n",
        "summary(model_with_fireplace)\n",
        "\n",
        "ggplot(houses_2bedrooms, aes(x=living_area, y = price))+\n",
        "  geom_point()+\n",
        "  geom_abline(aes(intercept = model_without_fireplace$coefficients[1], slope = model_without_fireplace$coefficients[2], color = \"bez krbu\"))+\n",
        "  geom_abline(aes(intercept = model_with_fireplace$coefficients[1], slope = model_with_fireplace$coefficients[2], color = \"s krbem\"))\n",
        "\n",
        "model_with_fireplace$coefficients[2]-model_without_fireplace$coefficients[2]  \n"
      ]
    },
    {
      "cell_type": "markdown",
      "source": [
        "Velká hodnota $R^2$ indikuje přibližně lineární vztah mezi proměnnými. Silnější lineární vztah mezi cenou a obytnou plochou tak vykazuje model s krbem, jelikož má vyšší $R^2$.\n",
        "\n",
        "Cena nemovitostí skrbem roste rychleji o 11.88 tisíc Kč na $m^2$."
      ],
      "metadata": {
        "id": "4y_G-v9ONcTD"
      }
    },
    {
      "cell_type": "code",
      "source": [
        "confint(model_without_fireplace)\n",
        "confint(model_with_fireplace)\n",
        "\n",
        "ggplot(houses_2bedrooms, aes(x = living_area, y = price , color = fireplace))+\n",
        "  geom_point()+\n",
        "  geom_smooth(method = lm, formula = y ~ x, aes(color = fireplace))\n"
      ],
      "metadata": {
        "id": "3kZNGuT_zTqv"
      },
      "execution_count": null,
      "outputs": []
    },
    {
      "cell_type": "markdown",
      "source": [
        "95% konfidenční interval pro regresní koeficient popisující sklon regresní přímky pro model s krbem je [13.55598 ;\t32.45133] a pro model bez krbu [6.8569 ;\t15.38681]. \n",
        "\n",
        "Konfidenční intervaly se pro nějaké hodnoty protínají, a tedy rozdíl mezi skupinami zde není statisticky významný.\n",
        "\n",
        "Chceme vyřešit, o kolik procent je cena nemovitosti s krbem vyšší než cena nemovitosti bez krbu, je-li obytná plocha 160 $m^2$. Počítáme tedy $[(Y_s - Y_{bez})/Y_{bez}] * 100$ a vychází, že cena nemovitosti s krbem je o 25.86% vyšší."
      ],
      "metadata": {
        "id": "5EfUVRJGRgQq"
      }
    },
    {
      "cell_type": "code",
      "source": [
        "X <- 160\n",
        "Y_s <- model_with_fireplace$coefficients[1]+model_with_fireplace$coefficients[2]*X\n",
        "Y_bez <- model_without_fireplace$coefficients[1]+model_without_fireplace$coefficients[2]*X\n",
        "\n",
        "((Y_s-Y_bez)/Y_bez)*100\n"
      ],
      "metadata": {
        "id": "uQg1DnEStm3n"
      },
      "execution_count": null,
      "outputs": []
    },
    {
      "cell_type": "markdown",
      "metadata": {
        "lines_to_next_cell": 0,
        "id": "11ed78d7"
      },
      "source": [
        "## Otázka 9\n",
        "\n",
        "Vykreslete scatterplot obytné plochy a ceny nemovitostí. Do tohoto grafu vykreslete regresní přímky vybraných modelů pro nemovitosti s krbem a bez něho, jednoltivé body i regresní přímky označte barvou podle toho k jaké skupině přísluší.\n",
        "\n",
        "Sestrojte 90% konfidenční intervaly okolo očekávaných cen pro jednoltivé skupiny a na jejich základě rozhodněte, zdali a jak se očekávané ceny budou lišit pro nemovitosti s obytnou plochou menší než $120m^2$. Je to porovnávání správné? Zdůvoněte."
      ]
    },
    {
      "cell_type": "code",
      "source": [
        "ggplot(data = houses_2bedrooms, aes(x=living_area, y = price, color = fireplace))+\n",
        "  geom_point() +\n",
        "  geom_smooth(method = lm, aes(color = fireplace), se =F)"
      ],
      "metadata": {
        "id": "mu7W1QwhYM91"
      },
      "execution_count": null,
      "outputs": []
    },
    {
      "cell_type": "code",
      "execution_count": null,
      "metadata": {
        "lines_to_next_cell": 2,
        "tags": [
          "remove_input"
        ],
        "id": "9ae5864a"
      },
      "outputs": [],
      "source": [
        "confint(model_without_fireplace, level = 0.9)\n",
        "confint(model_with_fireplace, level = 0.9)\n",
        "\n",
        "\n",
        "new_pred_s = predict(model_with_fireplace, newdata = data.frame(living_area = seq(0,500,1)), interval = \"prediction\", level = 0.9)\n",
        "new_pred_bez = predict(model_without_fireplace, newdata = data.frame(living_area = seq(0,500,1)), interval = \"prediction\", level = 0.9)\n",
        "\n",
        "par(mfrow = c(1,2))\n",
        "plot(price ~ living_area, data = houses_2bedrooms[houses_2bedrooms$fireplace == TRUE,],main = \"90% IP pro ceny nemovitostí s krbem\" )\n",
        "lines(seq(0, 500, 1), new_pred_s[,1], col='black')\n",
        "lines(seq(0, 500, 1), new_pred_s[,2], col='red')\n",
        "lines(seq(0, 500, 1), new_pred_s[,3], col='red')\n",
        "\n",
        "plot(price ~ living_area, data = houses_2bedrooms[houses_2bedrooms$fireplace == FALSE,], main = \"90% IP pro ceny nemovitostí bez krbu\")\n",
        "lines(seq(0, 500, 1), new_pred_bez[,1], col='black')\n",
        "lines(seq(0, 500, 1), new_pred_bez[,2], col='red')\n",
        "lines(seq(0, 500, 1), new_pred_bez[,3], col='red')\n",
        "\n",
        "# nebo pomocí ggplot2\n",
        "\n",
        "predictions_s <- as.data.frame(predict(model_with_fireplace, interval = \"predict\", level = 0.9))\n",
        "predictions_bez <- as.data.frame(predict(model_without_fireplace, interval = \"predict\", level = 0.9))\n",
        "\n",
        "ggplot(data = cbind(houses_2bedrooms[houses_2bedrooms$fireplace == TRUE,],predictions_s), aes(x=living_area, y=price)) +\n",
        "    geom_point() +\n",
        "    geom_smooth(method=lm , color=\"red\", se=TRUE) +\n",
        "    geom_line( aes(y = lwr), col = \"blue\", linetype = \"dashed\") + \n",
        "    geom_line( aes(y = upr), col = \"blue\", linetype = \"dashed\") + \n",
        "    theme_bw()\n",
        "\n",
        "ggplot(data = cbind(houses_2bedrooms[houses_2bedrooms$fireplace == FALSE,],predictions_bez), aes(x=living_area, y=price)) +\n",
        "    geom_point() +\n",
        "    geom_smooth(method=lm , color=\"red\", se=TRUE) +\n",
        "    geom_line( aes(y = lwr), col = \"blue\", linetype = \"dashed\") + \n",
        "    geom_line( aes(y = upr), col = \"blue\", linetype = \"dashed\") + \n",
        "    theme_bw()\n",
        "\n",
        "\n"
      ]
    },
    {
      "cell_type": "markdown",
      "metadata": {
        "lines_to_next_cell": 0,
        "id": "bfeecac9"
      },
      "source": [
        "## Otázka 10\n",
        "\n",
        "Vykreslete histogramy pro rezidua modelů z předchozí otázky. Proložte je hustotou normálního rozdělení s nulovou střední hodnotou a rozptylem odpovídajícím $\\hat{\\sigma}^2$ z jednotlivých modelů.\n",
        "\n",
        "Co výsledný graf říka o n našich modelech a je toto ověření dostatečné pro validaci model?\n",
        "\n",
        "Navrněte další úpravy modelu za cílem co nejlépe predikvoat cenu nemovitosti."
      ]
    },
    {
      "cell_type": "code",
      "execution_count": null,
      "metadata": {
        "lines_to_next_cell": 0,
        "tags": [
          "remove_input"
        ],
        "id": "c91c49d3"
      },
      "outputs": [],
      "source": [
        "par(mfrow=c(1,2))\n",
        "hist(model_with_fireplace$residuals, main = \"Histogram reziduí modelu s krbem\", freq = F, xlab = \"rezidua\", )\n",
        "x=seq(-3000,3000, length=10000)\n",
        "y=dnorm(x, mean = 0, sd = sd(model_with_fireplace$residuals))\n",
        "lines(x,y,col=\"blue\", lwd=2, lty = 1)\n",
        "\n",
        "hist(model_without_fireplace$residuals, main = \"Histogram reziduí modelu bez krbu\", freq = F, xlab = \"rezidua\", ylim = c(0,0.001))\n",
        "x=seq(-3000,3000, length=10000)\n",
        "y=dnorm(x, mean = 0, sd = sd(model_without_fireplace$residuals))\n",
        "lines(x,y,col=\"blue\", lwd=2, lty = 1)\n",
        "\n",
        "qqnorm(model_with_fireplace$residuals)\n",
        "qqline(model_with_fireplace$residuals)\n",
        "qqnorm(model_without_fireplace$residuals)\n",
        "qqline(model_without_fireplace$residuals)\n",
        "\n",
        "shapiro.test(model_with_fireplace$residuals)\n",
        "shapiro.test(model_without_fireplace$residuals)\n",
        "\n",
        "  "
      ]
    },
    {
      "cell_type": "markdown",
      "source": [
        "Samotný pohled na histogramy reziduí nám může napovědět, že mají normální rozdělení. Lépe je normalita vidět pomocí QQ-plotu nebo můžeme použít Shapiro-Wilkův test normality. Ty nám ukazují normalitu reziduí. Normalita reziduí znamená, že náš model je platný.\n",
        "\n",
        "Pro lepší predikci je možné do modelu přidat další proměnné.\n"
      ],
      "metadata": {
        "id": "8GM3pHNq6vXV"
      }
    }
  ]
}